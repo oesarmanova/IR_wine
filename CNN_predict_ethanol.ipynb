{
 "cells": [
  {
   "cell_type": "code",
   "execution_count": 1,
   "id": "aa755c54",
   "metadata": {},
   "outputs": [],
   "source": [
    "import numpy as np\n",
    "import pandas as pd\n",
    "import os\n",
    "import torch\n",
    "import torch.nn as nn\n",
    "import torchvision.transforms as transforms\n",
    "from torch.utils.data import DataLoader\n",
    "import torch.optim as optim\n",
    "import torch.nn.functional as F\n",
    "import wandb\n",
    "from sklearn.model_selection import train_test_split\n"
   ]
  },
  {
   "cell_type": "code",
   "execution_count": 2,
   "id": "f69caf57",
   "metadata": {},
   "outputs": [],
   "source": [
    "total_out_num = 5\n",
    "input_number = 1868\n",
    "out_num = 1"
   ]
  },
  {
   "cell_type": "code",
   "execution_count": 3,
   "id": "a8ea2dbf",
   "metadata": {},
   "outputs": [],
   "source": [
    "from torch.utils.data import Dataset\n",
    "\n",
    "class IR_wine_dataset(Dataset):\n",
    "    def __init__(self, target_n, nums, data_file, label_file, transform=None, target_transform=None, sep = \",\"):\n",
    "        self.target_n = target_n\n",
    "        self.pattern_n = pd.read_csv(nums, sep=',')\n",
    "        self.spec_labels = pd.read_csv(label_file, sep=',').iloc[:,[0,self.target_n]]\n",
    "        self.spec = pd.read_csv(data_file, sep=',')\n",
    "        self.transform = transform\n",
    "        self.target_transform = target_transform\n",
    "\n",
    "    def __len__(self):\n",
    "        return len(np.array(self.pattern_n))\n",
    "\n",
    "    def __getitem__(self, idx):\n",
    "        number = self.pattern_n.iloc[idx]\n",
    "        sp = torch.from_numpy(1000*np.array((self.spec.loc[self.spec.iloc[:,0]==number[0]]).iloc[:,1:])).to(torch.float32)\n",
    "        label = torch.from_numpy(np.array((self.spec_labels.loc[self.spec_labels.iloc[:,0].astype(int)==number[0]]).iloc[:,1:])).to(torch.float32).squeeze(0)\n",
    "        number = self.pattern_n.iloc[idx]\n",
    "        \n",
    "        if self.transform:\n",
    "            sp = self.transform(sp)\n",
    "        if self.target_transform:\n",
    "            label = self.target_transform(label)\n",
    "        return np.array(number), sp, label"
   ]
  },
  {
   "cell_type": "code",
   "execution_count": 4,
   "id": "286aa80e",
   "metadata": {},
   "outputs": [],
   "source": [
    "#Calculate min and max\n",
    "def mean_std(train_dataloader):\n",
    "    data = next(iter(train_dataloader))\n",
    "    MEAN = torch.mean(data[1],0)\n",
    "    STD = torch.std(data[1],0)\n",
    "    return MEAN, STD"
   ]
  },
  {
   "cell_type": "code",
   "execution_count": 5,
   "id": "82ae9714",
   "metadata": {},
   "outputs": [],
   "source": [
    "class Normalize:\n",
    "    def __init__(self,feat_mean,feat_std):\n",
    "        assert feat_mean.shape == feat_std.shape\n",
    "        self.feat_mean = feat_mean\n",
    "        self.feat_std = feat_std\n",
    "\n",
    "    def __call__(self,x):\n",
    "        return (x - self.feat_mean) / (self.feat_std)"
   ]
  },
  {
   "cell_type": "code",
   "execution_count": 6,
   "id": "32b8799e",
   "metadata": {},
   "outputs": [],
   "source": [
    "#1D CNN class (basic)\n",
    "class OneDCNN(nn.Module):\n",
    "\n",
    "    def __init__(self):\n",
    "      \n",
    "        super().__init__() # since Python 3.0\n",
    "\n",
    "        self.layers = nn.Sequential(\n",
    "            nn.Conv1d(in_channels=1, out_channels=4, kernel_size=9),\n",
    "            nn.Sigmoid(),\n",
    "            nn.MaxPool1d(2),\n",
    "            nn.Conv1d(in_channels=4, out_channels=8, kernel_size=9),\n",
    "            nn.Sigmoid(),\n",
    "            nn.MaxPool1d(2),\n",
    "            nn.Flatten(),\n",
    "            nn.Linear(461*8, 32),\n",
    "            nn.Sigmoid(),\n",
    "            nn.Linear(32, 1)\n",
    "        )\n",
    "    \n",
    "    def forward(self, x):\n",
    "        return self.layers(x)"
   ]
  },
  {
   "cell_type": "code",
   "execution_count": 7,
   "id": "580dee65",
   "metadata": {},
   "outputs": [],
   "source": [
    "def reset_weights(m):\n",
    "    '''\n",
    "    Try resetting model weights to avoid\n",
    "    weight leakage.\n",
    "    '''\n",
    "    for layer in m.children():\n",
    "        if hasattr(layer, 'reset_parameters'):\n",
    "            print(f'Reset trainable parameters of layer = {layer}')\n",
    "            layer.reset_parameters()"
   ]
  },
  {
   "cell_type": "code",
   "execution_count": 8,
   "id": "84f32f51",
   "metadata": {},
   "outputs": [],
   "source": [
    "#Write the outputs of the network\n",
    "def write_predictions(parameter, N, model_name, split_path,dataloader,feat_num,dset):\n",
    "    checkpoint = torch.load(split_path + 'model'+model_name+'.pth')\n",
    "    N.load_state_dict(checkpoint['model_state_dict'])\n",
    "    optimizer.load_state_dict(checkpoint['optimizer_state_dict'])\n",
    "    last_best_epoch = checkpoint['epoch']\n",
    "    loss = checkpoint['loss']\n",
    "    N.eval()\n",
    "\n",
    "    out, true = torch.zeros(1, feat_num+1), torch.zeros(1, feat_num+1)\n",
    "    for num, specs, labels in dataloader:\n",
    "        outputs = N(specs)\n",
    "        outputs[outputs<0]=0\n",
    "        \n",
    "        out = torch.cat((out, torch.cat((num, outputs), -1)),0)\n",
    "        true = torch.cat((true, torch.cat((num, labels), -1)),0)\n",
    "\n",
    "    a = ['sample_number',parameter]\n",
    "    \n",
    "    pd.DataFrame(out.detach().numpy()).to_csv(split_path + 'Y_out_'+dset+'.csv',sep=',', header = a)\n",
    "    pd.DataFrame(true.detach().numpy()).to_csv(split_path + 'Y_true_'+dset+'.csv',sep=',', header = a)"
   ]
  },
  {
   "cell_type": "code",
   "execution_count": 9,
   "id": "8a9f13e3",
   "metadata": {},
   "outputs": [],
   "source": [
    "gen_path = 'G:\\\\wine_half_data\\\\'\n",
    "data_file = 'G:\\\\wine_half_data\\\\data\\\\wines_november.csv'\n",
    "label_file = 'G:\\\\wine_half_data\\\\data\\\\wine_concentrations.csv'\n",
    "\n",
    "k_folds = [[42,12],[612,45],[72,172],[871,48],[52,134],[139,15],[287,403],[32,29]] #cross-validation folds\n",
    "\n",
    "target = 'ethanol_pct'\n",
    "case_name = 'wine_november_IR_CNN_100_epoch_'+target\n",
    "\n",
    "targets_num = {'ethanol_pct': 1, 'sugar_gL': 2, 'acids_gL': 3, 'glycerol_gL': 4, 'sulfur_dioxide_gL': 5}\n",
    "case_path = gen_path+case_name+'\\\\'"
   ]
  },
  {
   "cell_type": "code",
   "execution_count": 10,
   "id": "46dad77d",
   "metadata": {},
   "outputs": [],
   "source": [
    "#prepare cross_validation\n",
    "num_conc = pd.read_csv(data_file, sep=',').iloc[:,0]\n",
    "\n",
    "for fold in k_folds:\n",
    "    split_path = case_path + 'split_'+ str(fold[0])+'_'+str(fold[1])+ '\\\\'\n",
    "\n",
    "    os.makedirs(split_path, exist_ok = True)\n",
    "    y_trn, y_30 = train_test_split(np.array(num_conc), test_size=0.3, random_state=fold[0])\n",
    "    y_vld, y_tst = train_test_split(y_30, test_size=0.333, random_state=fold[1])\n",
    "\n",
    "    pd.DataFrame(y_trn, columns = ['pattern_number']).to_csv(split_path+'Y_trn.csv', sep=',',index=False)\n",
    "    pd.DataFrame(y_vld, columns = ['pattern_number']).to_csv(split_path+'Y_vld.csv', sep=',',index=False)\n",
    "    pd.DataFrame(y_tst, columns = ['pattern_number']).to_csv(split_path+'Y_tst.csv', sep=',',index=False)"
   ]
  },
  {
   "cell_type": "code",
   "execution_count": 10,
   "id": "ebd09131",
   "metadata": {},
   "outputs": [
    {
     "name": "stderr",
     "output_type": "stream",
     "text": [
      "wandb: Currently logged in as: oe_sarmanova (use `wandb login --relogin` to force relogin)\n",
      "wandb: wandb version 0.16.0 is available!  To upgrade, please run:\n",
      "wandb:  $ pip install wandb --upgrade\n"
     ]
    },
    {
     "data": {
      "text/html": [
       "\n",
       "                Tracking run with wandb version 0.10.15<br/>\n",
       "                Syncing run <strong style=\"color:#cdcd00\">valiant-sponge-35</strong> to <a href=\"https://wandb.ai\" target=\"_blank\">Weights & Biases</a> <a href=\"https://docs.wandb.com/integrations/jupyter.html\" target=\"_blank\">(Documentation)</a>.<br/>\n",
       "                Project page: <a href=\"https://wandb.ai/oe_sarmanova/wine_november_IR_CNN_100_epoch_ethanol_pct\" target=\"_blank\">https://wandb.ai/oe_sarmanova/wine_november_IR_CNN_100_epoch_ethanol_pct</a><br/>\n",
       "                Run page: <a href=\"https://wandb.ai/oe_sarmanova/wine_november_IR_CNN_100_epoch_ethanol_pct/runs/2pnw9mxd\" target=\"_blank\">https://wandb.ai/oe_sarmanova/wine_november_IR_CNN_100_epoch_ethanol_pct/runs/2pnw9mxd</a><br/>\n",
       "                Run data is saved locally in <code>C:\\Users\\helga\\wines_november\\wandb\\run-20231129_223219-2pnw9mxd</code><br/><br/>\n",
       "            "
      ],
      "text/plain": [
       "<IPython.core.display.HTML object>"
      ]
     },
     "metadata": {},
     "output_type": "display_data"
    },
    {
     "name": "stderr",
     "output_type": "stream",
     "text": [
      "wandb: WARNING Calling run.save without any arguments is deprecated.Changes to attributes are automatically persisted.\n",
      "C:\\Users\\helga\\anaconda3\\lib\\site-packages\\torch\\nn\\functional.py:652: UserWarning: Named tensors and all their associated APIs are an experimental feature and subject to change. Please do not use them for anything important until they are released as stable. (Triggered internally at  ..\\c10/core/TensorImpl.h:1156.)\n",
      "  return torch.max_pool1d(input, kernel_size, stride, padding, dilation, ceil_mode)\n"
     ]
    },
    {
     "name": "stdout",
     "output_type": "stream",
     "text": [
      "Reset trainable parameters of layer = Conv1d(1, 4, kernel_size=(9,), stride=(1,))\n",
      "Reset trainable parameters of layer = Conv1d(4, 8, kernel_size=(9,), stride=(1,))\n",
      "Reset trainable parameters of layer = Linear(in_features=3688, out_features=32, bias=True)\n",
      "Reset trainable parameters of layer = Linear(in_features=32, out_features=1, bias=True)\n"
     ]
    },
    {
     "data": {
      "text/html": [
       "<br/>Waiting for W&B process to finish, PID 16944<br/>Program ended successfully."
      ],
      "text/plain": [
       "<IPython.core.display.HTML object>"
      ]
     },
     "metadata": {},
     "output_type": "display_data"
    },
    {
     "data": {
      "application/vnd.jupyter.widget-view+json": {
       "model_id": "",
       "version_major": 2,
       "version_minor": 0
      },
      "text/plain": [
       "VBox(children=(Label(value=' 0.00MB of 0.00MB uploaded (0.00MB deduped)\\r'), FloatProgress(value=1.0, max=1.0)…"
      ]
     },
     "metadata": {},
     "output_type": "display_data"
    },
    {
     "data": {
      "text/html": [
       "Find user logs for this run at: <code>C:\\Users\\helga\\wines_november\\wandb\\run-20231129_223219-2pnw9mxd\\logs\\debug.log</code>"
      ],
      "text/plain": [
       "<IPython.core.display.HTML object>"
      ]
     },
     "metadata": {},
     "output_type": "display_data"
    },
    {
     "data": {
      "text/html": [
       "Find internal logs for this run at: <code>C:\\Users\\helga\\wines_november\\wandb\\run-20231129_223219-2pnw9mxd\\logs\\debug-internal.log</code>"
      ],
      "text/plain": [
       "<IPython.core.display.HTML object>"
      ]
     },
     "metadata": {},
     "output_type": "display_data"
    },
    {
     "data": {
      "text/html": [
       "<h3>Run summary:</h3><br/><style>\n",
       "    table.wandb td:nth-child(1) { padding: 0 10px; text-align: right }\n",
       "    </style><table class=\"wandb\">\n",
       "<tr><td>trn_loss</td><td>0.24776</td></tr><tr><td>vld_loss</td><td>0.50279</td></tr><tr><td>_step</td><td>900</td></tr><tr><td>_runtime</td><td>3190</td></tr><tr><td>_timestamp</td><td>1701289529</td></tr><tr><td>epoch</td><td>899</td></tr></table>"
      ],
      "text/plain": [
       "<IPython.core.display.HTML object>"
      ]
     },
     "metadata": {},
     "output_type": "display_data"
    },
    {
     "data": {
      "text/html": [
       "<h3>Run history:</h3><br/><style>\n",
       "    table.wandb td:nth-child(1) { padding: 0 10px; text-align: right }\n",
       "    </style><table class=\"wandb\">\n",
       "<tr><td>trn_loss</td><td>█▄▂▂▁▁▁▁▁▁▁▁▁▁▁▁▁▁▁▁▁▁▁▁▁▁▁▁▁▁▁▁▁▁▁▁▁▁▁▁</td></tr><tr><td>vld_loss</td><td>█▄▂▂▂▁▁▁▁▁▁▁▁▁▁▁▁▁▁▁▁▁▁▁▁▁▁▁▁▁▁▁▁▁▁▁▁▁▁▁</td></tr><tr><td>_step</td><td>▁▁▁▂▂▂▂▂▂▃▃▃▃▃▃▄▄▄▄▄▅▅▅▅▅▅▆▆▆▆▆▇▇▇▇▇▇███</td></tr><tr><td>_runtime</td><td>▁▁▁▁▂▂▂▂▂▂▃▃▃▃▃▄▄▄▄▄▄▅▅▅▅▅▆▆▆▆▆▆▇▇▇▇▇███</td></tr><tr><td>_timestamp</td><td>▁▁▁▁▂▂▂▂▂▂▃▃▃▃▃▄▄▄▄▄▄▅▅▅▅▅▆▆▆▆▆▆▇▇▇▇▇███</td></tr><tr><td>epoch</td><td>▁</td></tr></table><br/>"
      ],
      "text/plain": [
       "<IPython.core.display.HTML object>"
      ]
     },
     "metadata": {},
     "output_type": "display_data"
    },
    {
     "data": {
      "text/html": [
       "Synced 5 W&B file(s), 0 media file(s), 0 artifact file(s) and 0 other file(s)"
      ],
      "text/plain": [
       "<IPython.core.display.HTML object>"
      ]
     },
     "metadata": {},
     "output_type": "display_data"
    },
    {
     "data": {
      "text/html": [
       "\n",
       "                    <br/>Synced <strong style=\"color:#cdcd00\">valiant-sponge-35</strong>: <a href=\"https://wandb.ai/oe_sarmanova/wine_november_IR_CNN_100_epoch_ethanol_pct/runs/2pnw9mxd\" target=\"_blank\">https://wandb.ai/oe_sarmanova/wine_november_IR_CNN_100_epoch_ethanol_pct/runs/2pnw9mxd</a><br/>\n",
       "                "
      ],
      "text/plain": [
       "<IPython.core.display.HTML object>"
      ]
     },
     "metadata": {},
     "output_type": "display_data"
    },
    {
     "name": "stderr",
     "output_type": "stream",
     "text": [
      "wandb: wandb version 0.16.0 is available!  To upgrade, please run:\n",
      "wandb:  $ pip install wandb --upgrade\n"
     ]
    },
    {
     "data": {
      "text/html": [
       "\n",
       "                Tracking run with wandb version 0.10.15<br/>\n",
       "                Syncing run <strong style=\"color:#cdcd00\">visionary-grass-36</strong> to <a href=\"https://wandb.ai\" target=\"_blank\">Weights & Biases</a> <a href=\"https://docs.wandb.com/integrations/jupyter.html\" target=\"_blank\">(Documentation)</a>.<br/>\n",
       "                Project page: <a href=\"https://wandb.ai/oe_sarmanova/wine_november_IR_CNN_100_epoch_ethanol_pct\" target=\"_blank\">https://wandb.ai/oe_sarmanova/wine_november_IR_CNN_100_epoch_ethanol_pct</a><br/>\n",
       "                Run page: <a href=\"https://wandb.ai/oe_sarmanova/wine_november_IR_CNN_100_epoch_ethanol_pct/runs/12w1jr2h\" target=\"_blank\">https://wandb.ai/oe_sarmanova/wine_november_IR_CNN_100_epoch_ethanol_pct/runs/12w1jr2h</a><br/>\n",
       "                Run data is saved locally in <code>C:\\Users\\helga\\wines_november\\wandb\\run-20231129_232536-12w1jr2h</code><br/><br/>\n",
       "            "
      ],
      "text/plain": [
       "<IPython.core.display.HTML object>"
      ]
     },
     "metadata": {},
     "output_type": "display_data"
    },
    {
     "name": "stderr",
     "output_type": "stream",
     "text": [
      "wandb: WARNING Calling run.save without any arguments is deprecated.Changes to attributes are automatically persisted.\n"
     ]
    },
    {
     "name": "stdout",
     "output_type": "stream",
     "text": [
      "Reset trainable parameters of layer = Conv1d(1, 4, kernel_size=(9,), stride=(1,))\n",
      "Reset trainable parameters of layer = Conv1d(4, 8, kernel_size=(9,), stride=(1,))\n",
      "Reset trainable parameters of layer = Linear(in_features=3688, out_features=32, bias=True)\n",
      "Reset trainable parameters of layer = Linear(in_features=32, out_features=1, bias=True)\n"
     ]
    },
    {
     "data": {
      "text/html": [
       "<br/>Waiting for W&B process to finish, PID 5072<br/>Program ended successfully."
      ],
      "text/plain": [
       "<IPython.core.display.HTML object>"
      ]
     },
     "metadata": {},
     "output_type": "display_data"
    },
    {
     "data": {
      "application/vnd.jupyter.widget-view+json": {
       "model_id": "",
       "version_major": 2,
       "version_minor": 0
      },
      "text/plain": [
       "VBox(children=(Label(value=' 0.00MB of 0.00MB uploaded (0.00MB deduped)\\r'), FloatProgress(value=1.0, max=1.0)…"
      ]
     },
     "metadata": {},
     "output_type": "display_data"
    },
    {
     "data": {
      "text/html": [
       "Find user logs for this run at: <code>C:\\Users\\helga\\wines_november\\wandb\\run-20231129_232536-12w1jr2h\\logs\\debug.log</code>"
      ],
      "text/plain": [
       "<IPython.core.display.HTML object>"
      ]
     },
     "metadata": {},
     "output_type": "display_data"
    },
    {
     "data": {
      "text/html": [
       "Find internal logs for this run at: <code>C:\\Users\\helga\\wines_november\\wandb\\run-20231129_232536-12w1jr2h\\logs\\debug-internal.log</code>"
      ],
      "text/plain": [
       "<IPython.core.display.HTML object>"
      ]
     },
     "metadata": {},
     "output_type": "display_data"
    },
    {
     "data": {
      "text/html": [
       "<h3>Run summary:</h3><br/><style>\n",
       "    table.wandb td:nth-child(1) { padding: 0 10px; text-align: right }\n",
       "    </style><table class=\"wandb\">\n",
       "<tr><td>trn_loss</td><td>0.32947</td></tr><tr><td>vld_loss</td><td>0.48572</td></tr><tr><td>_step</td><td>500</td></tr><tr><td>_runtime</td><td>1805</td></tr><tr><td>_timestamp</td><td>1701291342</td></tr><tr><td>epoch</td><td>499</td></tr></table>"
      ],
      "text/plain": [
       "<IPython.core.display.HTML object>"
      ]
     },
     "metadata": {},
     "output_type": "display_data"
    },
    {
     "data": {
      "text/html": [
       "<h3>Run history:</h3><br/><style>\n",
       "    table.wandb td:nth-child(1) { padding: 0 10px; text-align: right }\n",
       "    </style><table class=\"wandb\">\n",
       "<tr><td>trn_loss</td><td>█▃▃▃▃▃▃▃▃▃▃▃▄▃▄▃▁▁▁▁▁▁▁▁▁▁▁▁▁▁▁▁▁▁▁▁▁▁▁▁</td></tr><tr><td>vld_loss</td><td>█▃▃▃▃▃▃▃▃▃▃▃▃▃▃▃▁▁▁▁▁▁▁▁▁▁▁▁▁▁▁▁▁▁▁▁▁▁▁▁</td></tr><tr><td>_step</td><td>▁▁▁▂▂▂▂▂▂▃▃▃▃▃▄▄▄▄▄▄▅▅▅▅▅▅▆▆▆▆▆▇▇▇▇▇▇███</td></tr><tr><td>_runtime</td><td>▁▁▁▁▂▂▂▂▂▃▃▃▃▃▃▄▄▄▄▄▅▅▅▅▅▅▆▆▆▆▆▇▇▇▇▇▇███</td></tr><tr><td>_timestamp</td><td>▁▁▁▁▂▂▂▂▂▃▃▃▃▃▃▄▄▄▄▄▅▅▅▅▅▅▆▆▆▆▆▇▇▇▇▇▇███</td></tr><tr><td>epoch</td><td>▁</td></tr></table><br/>"
      ],
      "text/plain": [
       "<IPython.core.display.HTML object>"
      ]
     },
     "metadata": {},
     "output_type": "display_data"
    },
    {
     "data": {
      "text/html": [
       "Synced 5 W&B file(s), 0 media file(s), 0 artifact file(s) and 0 other file(s)"
      ],
      "text/plain": [
       "<IPython.core.display.HTML object>"
      ]
     },
     "metadata": {},
     "output_type": "display_data"
    },
    {
     "data": {
      "text/html": [
       "\n",
       "                    <br/>Synced <strong style=\"color:#cdcd00\">visionary-grass-36</strong>: <a href=\"https://wandb.ai/oe_sarmanova/wine_november_IR_CNN_100_epoch_ethanol_pct/runs/12w1jr2h\" target=\"_blank\">https://wandb.ai/oe_sarmanova/wine_november_IR_CNN_100_epoch_ethanol_pct/runs/12w1jr2h</a><br/>\n",
       "                "
      ],
      "text/plain": [
       "<IPython.core.display.HTML object>"
      ]
     },
     "metadata": {},
     "output_type": "display_data"
    },
    {
     "name": "stderr",
     "output_type": "stream",
     "text": [
      "wandb: wandb version 0.16.0 is available!  To upgrade, please run:\n",
      "wandb:  $ pip install wandb --upgrade\n"
     ]
    },
    {
     "data": {
      "text/html": [
       "\n",
       "                Tracking run with wandb version 0.10.15<br/>\n",
       "                Syncing run <strong style=\"color:#cdcd00\">generous-bird-37</strong> to <a href=\"https://wandb.ai\" target=\"_blank\">Weights & Biases</a> <a href=\"https://docs.wandb.com/integrations/jupyter.html\" target=\"_blank\">(Documentation)</a>.<br/>\n",
       "                Project page: <a href=\"https://wandb.ai/oe_sarmanova/wine_november_IR_CNN_100_epoch_ethanol_pct\" target=\"_blank\">https://wandb.ai/oe_sarmanova/wine_november_IR_CNN_100_epoch_ethanol_pct</a><br/>\n",
       "                Run page: <a href=\"https://wandb.ai/oe_sarmanova/wine_november_IR_CNN_100_epoch_ethanol_pct/runs/yg95nwkr\" target=\"_blank\">https://wandb.ai/oe_sarmanova/wine_november_IR_CNN_100_epoch_ethanol_pct/runs/yg95nwkr</a><br/>\n",
       "                Run data is saved locally in <code>C:\\Users\\helga\\wines_november\\wandb\\run-20231129_235551-yg95nwkr</code><br/><br/>\n",
       "            "
      ],
      "text/plain": [
       "<IPython.core.display.HTML object>"
      ]
     },
     "metadata": {},
     "output_type": "display_data"
    },
    {
     "name": "stderr",
     "output_type": "stream",
     "text": [
      "wandb: WARNING Calling run.save without any arguments is deprecated.Changes to attributes are automatically persisted.\n"
     ]
    },
    {
     "name": "stdout",
     "output_type": "stream",
     "text": [
      "Reset trainable parameters of layer = Conv1d(1, 4, kernel_size=(9,), stride=(1,))\n",
      "Reset trainable parameters of layer = Conv1d(4, 8, kernel_size=(9,), stride=(1,))\n",
      "Reset trainable parameters of layer = Linear(in_features=3688, out_features=32, bias=True)\n",
      "Reset trainable parameters of layer = Linear(in_features=32, out_features=1, bias=True)\n"
     ]
    },
    {
     "data": {
      "text/html": [
       "<br/>Waiting for W&B process to finish, PID 15216<br/>Program ended successfully."
      ],
      "text/plain": [
       "<IPython.core.display.HTML object>"
      ]
     },
     "metadata": {},
     "output_type": "display_data"
    },
    {
     "data": {
      "application/vnd.jupyter.widget-view+json": {
       "model_id": "",
       "version_major": 2,
       "version_minor": 0
      },
      "text/plain": [
       "VBox(children=(Label(value=' 0.00MB of 0.00MB uploaded (0.00MB deduped)\\r'), FloatProgress(value=1.0, max=1.0)…"
      ]
     },
     "metadata": {},
     "output_type": "display_data"
    },
    {
     "data": {
      "text/html": [
       "Find user logs for this run at: <code>C:\\Users\\helga\\wines_november\\wandb\\run-20231129_235551-yg95nwkr\\logs\\debug.log</code>"
      ],
      "text/plain": [
       "<IPython.core.display.HTML object>"
      ]
     },
     "metadata": {},
     "output_type": "display_data"
    },
    {
     "data": {
      "text/html": [
       "Find internal logs for this run at: <code>C:\\Users\\helga\\wines_november\\wandb\\run-20231129_235551-yg95nwkr\\logs\\debug-internal.log</code>"
      ],
      "text/plain": [
       "<IPython.core.display.HTML object>"
      ]
     },
     "metadata": {},
     "output_type": "display_data"
    },
    {
     "data": {
      "text/html": [
       "<h3>Run summary:</h3><br/><style>\n",
       "    table.wandb td:nth-child(1) { padding: 0 10px; text-align: right }\n",
       "    </style><table class=\"wandb\">\n",
       "<tr><td>trn_loss</td><td>0.17946</td></tr><tr><td>vld_loss</td><td>0.42675</td></tr><tr><td>_step</td><td>500</td></tr><tr><td>_runtime</td><td>1794</td></tr><tr><td>_timestamp</td><td>1701293145</td></tr><tr><td>epoch</td><td>499</td></tr></table>"
      ],
      "text/plain": [
       "<IPython.core.display.HTML object>"
      ]
     },
     "metadata": {},
     "output_type": "display_data"
    },
    {
     "data": {
      "text/html": [
       "<h3>Run history:</h3><br/><style>\n",
       "    table.wandb td:nth-child(1) { padding: 0 10px; text-align: right }\n",
       "    </style><table class=\"wandb\">\n",
       "<tr><td>trn_loss</td><td>█▄▃▄▃▂▂▂▁▁▁▁▁▁▁▁▁▁▁▁▁▁▁▁▁▁▁▁▁▁▁▁▁▁▁▁▁▁▁▁</td></tr><tr><td>vld_loss</td><td>█▄▄▃▃▂▂▂▁▁▁▁▁▁▁▁▁▁▁▁▁▁▁▁▁▁▁▁▁▁▁▁▁▁▁▁▁▁▁▁</td></tr><tr><td>_step</td><td>▁▁▁▂▂▂▂▂▂▃▃▃▃▃▄▄▄▄▄▄▅▅▅▅▅▅▆▆▆▆▆▇▇▇▇▇▇███</td></tr><tr><td>_runtime</td><td>▁▁▁▂▂▂▂▂▂▃▃▃▃▃▄▄▄▄▄▄▅▅▅▅▅▆▆▆▆▆▆▇▇▇▇▇████</td></tr><tr><td>_timestamp</td><td>▁▁▁▂▂▂▂▂▂▃▃▃▃▃▄▄▄▄▄▄▅▅▅▅▅▆▆▆▆▆▆▇▇▇▇▇████</td></tr><tr><td>epoch</td><td>▁</td></tr></table><br/>"
      ],
      "text/plain": [
       "<IPython.core.display.HTML object>"
      ]
     },
     "metadata": {},
     "output_type": "display_data"
    },
    {
     "data": {
      "text/html": [
       "Synced 5 W&B file(s), 0 media file(s), 0 artifact file(s) and 0 other file(s)"
      ],
      "text/plain": [
       "<IPython.core.display.HTML object>"
      ]
     },
     "metadata": {},
     "output_type": "display_data"
    },
    {
     "data": {
      "text/html": [
       "\n",
       "                    <br/>Synced <strong style=\"color:#cdcd00\">generous-bird-37</strong>: <a href=\"https://wandb.ai/oe_sarmanova/wine_november_IR_CNN_100_epoch_ethanol_pct/runs/yg95nwkr\" target=\"_blank\">https://wandb.ai/oe_sarmanova/wine_november_IR_CNN_100_epoch_ethanol_pct/runs/yg95nwkr</a><br/>\n",
       "                "
      ],
      "text/plain": [
       "<IPython.core.display.HTML object>"
      ]
     },
     "metadata": {},
     "output_type": "display_data"
    },
    {
     "name": "stderr",
     "output_type": "stream",
     "text": [
      "wandb: wandb version 0.16.0 is available!  To upgrade, please run:\n",
      "wandb:  $ pip install wandb --upgrade\n"
     ]
    },
    {
     "data": {
      "text/html": [
       "\n",
       "                Tracking run with wandb version 0.10.15<br/>\n",
       "                Syncing run <strong style=\"color:#cdcd00\">neat-lion-38</strong> to <a href=\"https://wandb.ai\" target=\"_blank\">Weights & Biases</a> <a href=\"https://docs.wandb.com/integrations/jupyter.html\" target=\"_blank\">(Documentation)</a>.<br/>\n",
       "                Project page: <a href=\"https://wandb.ai/oe_sarmanova/wine_november_IR_CNN_100_epoch_ethanol_pct\" target=\"_blank\">https://wandb.ai/oe_sarmanova/wine_november_IR_CNN_100_epoch_ethanol_pct</a><br/>\n",
       "                Run page: <a href=\"https://wandb.ai/oe_sarmanova/wine_november_IR_CNN_100_epoch_ethanol_pct/runs/3p2faycg\" target=\"_blank\">https://wandb.ai/oe_sarmanova/wine_november_IR_CNN_100_epoch_ethanol_pct/runs/3p2faycg</a><br/>\n",
       "                Run data is saved locally in <code>C:\\Users\\helga\\wines_november\\wandb\\run-20231130_002552-3p2faycg</code><br/><br/>\n",
       "            "
      ],
      "text/plain": [
       "<IPython.core.display.HTML object>"
      ]
     },
     "metadata": {},
     "output_type": "display_data"
    },
    {
     "name": "stderr",
     "output_type": "stream",
     "text": [
      "wandb: WARNING Calling run.save without any arguments is deprecated.Changes to attributes are automatically persisted.\n"
     ]
    },
    {
     "name": "stdout",
     "output_type": "stream",
     "text": [
      "Reset trainable parameters of layer = Conv1d(1, 4, kernel_size=(9,), stride=(1,))\n",
      "Reset trainable parameters of layer = Conv1d(4, 8, kernel_size=(9,), stride=(1,))\n",
      "Reset trainable parameters of layer = Linear(in_features=3688, out_features=32, bias=True)\n",
      "Reset trainable parameters of layer = Linear(in_features=32, out_features=1, bias=True)\n"
     ]
    },
    {
     "data": {
      "text/html": [
       "<br/>Waiting for W&B process to finish, PID 15964<br/>Program ended successfully."
      ],
      "text/plain": [
       "<IPython.core.display.HTML object>"
      ]
     },
     "metadata": {},
     "output_type": "display_data"
    },
    {
     "data": {
      "application/vnd.jupyter.widget-view+json": {
       "model_id": "",
       "version_major": 2,
       "version_minor": 0
      },
      "text/plain": [
       "VBox(children=(Label(value=' 0.00MB of 0.00MB uploaded (0.00MB deduped)\\r'), FloatProgress(value=1.0, max=1.0)…"
      ]
     },
     "metadata": {},
     "output_type": "display_data"
    },
    {
     "data": {
      "text/html": [
       "Find user logs for this run at: <code>C:\\Users\\helga\\wines_november\\wandb\\run-20231130_002552-3p2faycg\\logs\\debug.log</code>"
      ],
      "text/plain": [
       "<IPython.core.display.HTML object>"
      ]
     },
     "metadata": {},
     "output_type": "display_data"
    },
    {
     "data": {
      "text/html": [
       "Find internal logs for this run at: <code>C:\\Users\\helga\\wines_november\\wandb\\run-20231130_002552-3p2faycg\\logs\\debug-internal.log</code>"
      ],
      "text/plain": [
       "<IPython.core.display.HTML object>"
      ]
     },
     "metadata": {},
     "output_type": "display_data"
    },
    {
     "data": {
      "text/html": [
       "<h3>Run summary:</h3><br/><style>\n",
       "    table.wandb td:nth-child(1) { padding: 0 10px; text-align: right }\n",
       "    </style><table class=\"wandb\">\n",
       "<tr><td>trn_loss</td><td>0.31202</td></tr><tr><td>vld_loss</td><td>0.40836</td></tr><tr><td>_step</td><td>600</td></tr><tr><td>_runtime</td><td>2181</td></tr><tr><td>_timestamp</td><td>1701295334</td></tr><tr><td>epoch</td><td>599</td></tr></table>"
      ],
      "text/plain": [
       "<IPython.core.display.HTML object>"
      ]
     },
     "metadata": {},
     "output_type": "display_data"
    },
    {
     "data": {
      "text/html": [
       "<h3>Run history:</h3><br/><style>\n",
       "    table.wandb td:nth-child(1) { padding: 0 10px; text-align: right }\n",
       "    </style><table class=\"wandb\">\n",
       "<tr><td>trn_loss</td><td>█▅▆▆▆▃▂▁▁▁▁▁▁▁▁▁▁▁▁▁▁▁▁▁▁▁▁▁▁▁▁▁▁▁▁▁▁▁▁▁</td></tr><tr><td>vld_loss</td><td>█▇▆▆▇▃▂▁▁▁▁▁▁▁▁▁▁▁▁▁▁▁▁▁▁▁▁▁▁▁▁▁▁▁▁▁▁▁▁▁</td></tr><tr><td>_step</td><td>▁▁▁▁▂▂▂▂▂▃▃▃▃▃▃▄▄▄▄▄▅▅▅▅▅▅▆▆▆▆▆▆▇▇▇▇▇███</td></tr><tr><td>_runtime</td><td>▁▁▁▁▂▂▂▂▂▃▃▃▃▃▃▄▄▄▄▄▅▅▅▅▅▅▆▆▆▆▆▇▇▇▇▇▇███</td></tr><tr><td>_timestamp</td><td>▁▁▁▁▂▂▂▂▂▃▃▃▃▃▃▄▄▄▄▄▅▅▅▅▅▅▆▆▆▆▆▇▇▇▇▇▇███</td></tr><tr><td>epoch</td><td>▁</td></tr></table><br/>"
      ],
      "text/plain": [
       "<IPython.core.display.HTML object>"
      ]
     },
     "metadata": {},
     "output_type": "display_data"
    },
    {
     "data": {
      "text/html": [
       "Synced 5 W&B file(s), 0 media file(s), 0 artifact file(s) and 0 other file(s)"
      ],
      "text/plain": [
       "<IPython.core.display.HTML object>"
      ]
     },
     "metadata": {},
     "output_type": "display_data"
    },
    {
     "data": {
      "text/html": [
       "\n",
       "                    <br/>Synced <strong style=\"color:#cdcd00\">neat-lion-38</strong>: <a href=\"https://wandb.ai/oe_sarmanova/wine_november_IR_CNN_100_epoch_ethanol_pct/runs/3p2faycg\" target=\"_blank\">https://wandb.ai/oe_sarmanova/wine_november_IR_CNN_100_epoch_ethanol_pct/runs/3p2faycg</a><br/>\n",
       "                "
      ],
      "text/plain": [
       "<IPython.core.display.HTML object>"
      ]
     },
     "metadata": {},
     "output_type": "display_data"
    },
    {
     "name": "stderr",
     "output_type": "stream",
     "text": [
      "wandb: wandb version 0.16.0 is available!  To upgrade, please run:\n",
      "wandb:  $ pip install wandb --upgrade\n"
     ]
    },
    {
     "data": {
      "text/html": [
       "\n",
       "                Tracking run with wandb version 0.10.15<br/>\n",
       "                Syncing run <strong style=\"color:#cdcd00\">colorful-surf-39</strong> to <a href=\"https://wandb.ai\" target=\"_blank\">Weights & Biases</a> <a href=\"https://docs.wandb.com/integrations/jupyter.html\" target=\"_blank\">(Documentation)</a>.<br/>\n",
       "                Project page: <a href=\"https://wandb.ai/oe_sarmanova/wine_november_IR_CNN_100_epoch_ethanol_pct\" target=\"_blank\">https://wandb.ai/oe_sarmanova/wine_november_IR_CNN_100_epoch_ethanol_pct</a><br/>\n",
       "                Run page: <a href=\"https://wandb.ai/oe_sarmanova/wine_november_IR_CNN_100_epoch_ethanol_pct/runs/3a5mazm4\" target=\"_blank\">https://wandb.ai/oe_sarmanova/wine_november_IR_CNN_100_epoch_ethanol_pct/runs/3a5mazm4</a><br/>\n",
       "                Run data is saved locally in <code>C:\\Users\\helga\\wines_november\\wandb\\run-20231130_010221-3a5mazm4</code><br/><br/>\n",
       "            "
      ],
      "text/plain": [
       "<IPython.core.display.HTML object>"
      ]
     },
     "metadata": {},
     "output_type": "display_data"
    },
    {
     "name": "stderr",
     "output_type": "stream",
     "text": [
      "wandb: WARNING Calling run.save without any arguments is deprecated.Changes to attributes are automatically persisted.\n"
     ]
    },
    {
     "name": "stdout",
     "output_type": "stream",
     "text": [
      "Reset trainable parameters of layer = Conv1d(1, 4, kernel_size=(9,), stride=(1,))\n",
      "Reset trainable parameters of layer = Conv1d(4, 8, kernel_size=(9,), stride=(1,))\n",
      "Reset trainable parameters of layer = Linear(in_features=3688, out_features=32, bias=True)\n",
      "Reset trainable parameters of layer = Linear(in_features=32, out_features=1, bias=True)\n"
     ]
    },
    {
     "data": {
      "text/html": [
       "<br/>Waiting for W&B process to finish, PID 156<br/>Program ended successfully."
      ],
      "text/plain": [
       "<IPython.core.display.HTML object>"
      ]
     },
     "metadata": {},
     "output_type": "display_data"
    },
    {
     "data": {
      "application/vnd.jupyter.widget-view+json": {
       "model_id": "",
       "version_major": 2,
       "version_minor": 0
      },
      "text/plain": [
       "VBox(children=(Label(value=' 0.00MB of 0.00MB uploaded (0.00MB deduped)\\r'), FloatProgress(value=1.0, max=1.0)…"
      ]
     },
     "metadata": {},
     "output_type": "display_data"
    },
    {
     "data": {
      "text/html": [
       "Find user logs for this run at: <code>C:\\Users\\helga\\wines_november\\wandb\\run-20231130_010221-3a5mazm4\\logs\\debug.log</code>"
      ],
      "text/plain": [
       "<IPython.core.display.HTML object>"
      ]
     },
     "metadata": {},
     "output_type": "display_data"
    },
    {
     "data": {
      "text/html": [
       "Find internal logs for this run at: <code>C:\\Users\\helga\\wines_november\\wandb\\run-20231130_010221-3a5mazm4\\logs\\debug-internal.log</code>"
      ],
      "text/plain": [
       "<IPython.core.display.HTML object>"
      ]
     },
     "metadata": {},
     "output_type": "display_data"
    },
    {
     "data": {
      "text/html": [
       "<h3>Run summary:</h3><br/><style>\n",
       "    table.wandb td:nth-child(1) { padding: 0 10px; text-align: right }\n",
       "    </style><table class=\"wandb\">\n",
       "<tr><td>trn_loss</td><td>0.3773</td></tr><tr><td>vld_loss</td><td>0.43205</td></tr><tr><td>_step</td><td>700</td></tr><tr><td>_runtime</td><td>2553</td></tr><tr><td>_timestamp</td><td>1701297894</td></tr><tr><td>epoch</td><td>699</td></tr></table>"
      ],
      "text/plain": [
       "<IPython.core.display.HTML object>"
      ]
     },
     "metadata": {},
     "output_type": "display_data"
    },
    {
     "data": {
      "text/html": [
       "<h3>Run history:</h3><br/><style>\n",
       "    table.wandb td:nth-child(1) { padding: 0 10px; text-align: right }\n",
       "    </style><table class=\"wandb\">\n",
       "<tr><td>trn_loss</td><td>█▃▄▃▄▃▃▃▃▃▃▂▁▁▁▁▁▁▁▁▁▁▁▁▁▁▁▁▁▁▁▁▁▁▁▁▁▁▁▁</td></tr><tr><td>vld_loss</td><td>█▄▃▃▃▃▃▃▃▃▃▂▁▁▁▁▁▁▁▁▁▁▁▁▁▁▁▁▁▁▁▁▁▁▁▁▁▁▁▁</td></tr><tr><td>_step</td><td>▁▁▁▁▂▂▂▂▂▃▃▃▃▃▃▄▄▄▄▄▅▅▅▅▅▅▆▆▆▆▆▇▇▇▇▇▇███</td></tr><tr><td>_runtime</td><td>▁▁▁▂▂▂▂▂▂▃▃▃▃▃▃▄▄▄▄▄▅▅▅▅▅▆▆▆▆▆▆▇▇▇▇▇▇███</td></tr><tr><td>_timestamp</td><td>▁▁▁▂▂▂▂▂▂▃▃▃▃▃▃▄▄▄▄▄▅▅▅▅▅▆▆▆▆▆▆▇▇▇▇▇▇███</td></tr><tr><td>epoch</td><td>▁</td></tr></table><br/>"
      ],
      "text/plain": [
       "<IPython.core.display.HTML object>"
      ]
     },
     "metadata": {},
     "output_type": "display_data"
    },
    {
     "data": {
      "text/html": [
       "Synced 5 W&B file(s), 0 media file(s), 0 artifact file(s) and 0 other file(s)"
      ],
      "text/plain": [
       "<IPython.core.display.HTML object>"
      ]
     },
     "metadata": {},
     "output_type": "display_data"
    },
    {
     "data": {
      "text/html": [
       "\n",
       "                    <br/>Synced <strong style=\"color:#cdcd00\">colorful-surf-39</strong>: <a href=\"https://wandb.ai/oe_sarmanova/wine_november_IR_CNN_100_epoch_ethanol_pct/runs/3a5mazm4\" target=\"_blank\">https://wandb.ai/oe_sarmanova/wine_november_IR_CNN_100_epoch_ethanol_pct/runs/3a5mazm4</a><br/>\n",
       "                "
      ],
      "text/plain": [
       "<IPython.core.display.HTML object>"
      ]
     },
     "metadata": {},
     "output_type": "display_data"
    },
    {
     "name": "stderr",
     "output_type": "stream",
     "text": [
      "wandb: wandb version 0.16.0 is available!  To upgrade, please run:\n",
      "wandb:  $ pip install wandb --upgrade\n"
     ]
    },
    {
     "data": {
      "text/html": [
       "\n",
       "                Tracking run with wandb version 0.10.15<br/>\n",
       "                Syncing run <strong style=\"color:#cdcd00\">prime-cosmos-40</strong> to <a href=\"https://wandb.ai\" target=\"_blank\">Weights & Biases</a> <a href=\"https://docs.wandb.com/integrations/jupyter.html\" target=\"_blank\">(Documentation)</a>.<br/>\n",
       "                Project page: <a href=\"https://wandb.ai/oe_sarmanova/wine_november_IR_CNN_100_epoch_ethanol_pct\" target=\"_blank\">https://wandb.ai/oe_sarmanova/wine_november_IR_CNN_100_epoch_ethanol_pct</a><br/>\n",
       "                Run page: <a href=\"https://wandb.ai/oe_sarmanova/wine_november_IR_CNN_100_epoch_ethanol_pct/runs/3ro07wg6\" target=\"_blank\">https://wandb.ai/oe_sarmanova/wine_november_IR_CNN_100_epoch_ethanol_pct/runs/3ro07wg6</a><br/>\n",
       "                Run data is saved locally in <code>C:\\Users\\helga\\wines_november\\wandb\\run-20231130_014506-3ro07wg6</code><br/><br/>\n",
       "            "
      ],
      "text/plain": [
       "<IPython.core.display.HTML object>"
      ]
     },
     "metadata": {},
     "output_type": "display_data"
    },
    {
     "name": "stderr",
     "output_type": "stream",
     "text": [
      "wandb: WARNING Calling run.save without any arguments is deprecated.Changes to attributes are automatically persisted.\n"
     ]
    },
    {
     "name": "stdout",
     "output_type": "stream",
     "text": [
      "Reset trainable parameters of layer = Conv1d(1, 4, kernel_size=(9,), stride=(1,))\n",
      "Reset trainable parameters of layer = Conv1d(4, 8, kernel_size=(9,), stride=(1,))\n",
      "Reset trainable parameters of layer = Linear(in_features=3688, out_features=32, bias=True)\n",
      "Reset trainable parameters of layer = Linear(in_features=32, out_features=1, bias=True)\n"
     ]
    },
    {
     "data": {
      "text/html": [
       "<br/>Waiting for W&B process to finish, PID 2152<br/>Program ended successfully."
      ],
      "text/plain": [
       "<IPython.core.display.HTML object>"
      ]
     },
     "metadata": {},
     "output_type": "display_data"
    },
    {
     "data": {
      "application/vnd.jupyter.widget-view+json": {
       "model_id": "",
       "version_major": 2,
       "version_minor": 0
      },
      "text/plain": [
       "VBox(children=(Label(value=' 0.00MB of 0.00MB uploaded (0.00MB deduped)\\r'), FloatProgress(value=1.0, max=1.0)…"
      ]
     },
     "metadata": {},
     "output_type": "display_data"
    },
    {
     "data": {
      "text/html": [
       "Find user logs for this run at: <code>C:\\Users\\helga\\wines_november\\wandb\\run-20231130_014506-3ro07wg6\\logs\\debug.log</code>"
      ],
      "text/plain": [
       "<IPython.core.display.HTML object>"
      ]
     },
     "metadata": {},
     "output_type": "display_data"
    },
    {
     "data": {
      "text/html": [
       "Find internal logs for this run at: <code>C:\\Users\\helga\\wines_november\\wandb\\run-20231130_014506-3ro07wg6\\logs\\debug-internal.log</code>"
      ],
      "text/plain": [
       "<IPython.core.display.HTML object>"
      ]
     },
     "metadata": {},
     "output_type": "display_data"
    },
    {
     "data": {
      "text/html": [
       "<h3>Run summary:</h3><br/><style>\n",
       "    table.wandb td:nth-child(1) { padding: 0 10px; text-align: right }\n",
       "    </style><table class=\"wandb\">\n",
       "<tr><td>trn_loss</td><td>0.19189</td></tr><tr><td>vld_loss</td><td>0.72539</td></tr><tr><td>_step</td><td>500</td></tr><tr><td>_runtime</td><td>1603</td></tr><tr><td>_timestamp</td><td>1701299509</td></tr><tr><td>epoch</td><td>499</td></tr></table>"
      ],
      "text/plain": [
       "<IPython.core.display.HTML object>"
      ]
     },
     "metadata": {},
     "output_type": "display_data"
    },
    {
     "data": {
      "text/html": [
       "<h3>Run history:</h3><br/><style>\n",
       "    table.wandb td:nth-child(1) { padding: 0 10px; text-align: right }\n",
       "    </style><table class=\"wandb\">\n",
       "<tr><td>trn_loss</td><td>█▄▄▄▃▄▃▅▃▂▂▁▁▁▁▁▁▁▁▁▁▁▁▁▁▁▁▁▁▁▁▁▁▁▁▁▁▁▁▁</td></tr><tr><td>vld_loss</td><td>█▄▄▄▄▄▄▄▄▂▂▁▁▁▁▁▁▁▁▁▁▁▁▁▁▁▁▁▁▁▁▁▁▁▁▁▁▁▁▁</td></tr><tr><td>_step</td><td>▁▁▁▂▂▂▂▂▂▃▃▃▃▃▄▄▄▄▄▄▅▅▅▅▅▅▆▆▆▆▆▇▇▇▇▇▇███</td></tr><tr><td>_runtime</td><td>▁▁▁▂▂▂▂▂▃▃▃▃▃▄▄▄▄▄▅▅▅▅▅▅▆▆▆▆▆▆▇▇▇▇▇▇████</td></tr><tr><td>_timestamp</td><td>▁▁▁▂▂▂▂▂▃▃▃▃▃▄▄▄▄▄▅▅▅▅▅▅▆▆▆▆▆▆▇▇▇▇▇▇████</td></tr><tr><td>epoch</td><td>▁</td></tr></table><br/>"
      ],
      "text/plain": [
       "<IPython.core.display.HTML object>"
      ]
     },
     "metadata": {},
     "output_type": "display_data"
    },
    {
     "data": {
      "text/html": [
       "Synced 5 W&B file(s), 0 media file(s), 0 artifact file(s) and 0 other file(s)"
      ],
      "text/plain": [
       "<IPython.core.display.HTML object>"
      ]
     },
     "metadata": {},
     "output_type": "display_data"
    },
    {
     "data": {
      "text/html": [
       "\n",
       "                    <br/>Synced <strong style=\"color:#cdcd00\">prime-cosmos-40</strong>: <a href=\"https://wandb.ai/oe_sarmanova/wine_november_IR_CNN_100_epoch_ethanol_pct/runs/3ro07wg6\" target=\"_blank\">https://wandb.ai/oe_sarmanova/wine_november_IR_CNN_100_epoch_ethanol_pct/runs/3ro07wg6</a><br/>\n",
       "                "
      ],
      "text/plain": [
       "<IPython.core.display.HTML object>"
      ]
     },
     "metadata": {},
     "output_type": "display_data"
    },
    {
     "name": "stderr",
     "output_type": "stream",
     "text": [
      "wandb: wandb version 0.16.0 is available!  To upgrade, please run:\n",
      "wandb:  $ pip install wandb --upgrade\n"
     ]
    },
    {
     "data": {
      "text/html": [
       "\n",
       "                Tracking run with wandb version 0.10.15<br/>\n",
       "                Syncing run <strong style=\"color:#cdcd00\">whole-shadow-41</strong> to <a href=\"https://wandb.ai\" target=\"_blank\">Weights & Biases</a> <a href=\"https://docs.wandb.com/integrations/jupyter.html\" target=\"_blank\">(Documentation)</a>.<br/>\n",
       "                Project page: <a href=\"https://wandb.ai/oe_sarmanova/wine_november_IR_CNN_100_epoch_ethanol_pct\" target=\"_blank\">https://wandb.ai/oe_sarmanova/wine_november_IR_CNN_100_epoch_ethanol_pct</a><br/>\n",
       "                Run page: <a href=\"https://wandb.ai/oe_sarmanova/wine_november_IR_CNN_100_epoch_ethanol_pct/runs/2mh4p8ue\" target=\"_blank\">https://wandb.ai/oe_sarmanova/wine_november_IR_CNN_100_epoch_ethanol_pct/runs/2mh4p8ue</a><br/>\n",
       "                Run data is saved locally in <code>C:\\Users\\helga\\wines_november\\wandb\\run-20231130_021156-2mh4p8ue</code><br/><br/>\n",
       "            "
      ],
      "text/plain": [
       "<IPython.core.display.HTML object>"
      ]
     },
     "metadata": {},
     "output_type": "display_data"
    },
    {
     "name": "stderr",
     "output_type": "stream",
     "text": [
      "wandb: WARNING Calling run.save without any arguments is deprecated.Changes to attributes are automatically persisted.\n"
     ]
    },
    {
     "name": "stdout",
     "output_type": "stream",
     "text": [
      "Reset trainable parameters of layer = Conv1d(1, 4, kernel_size=(9,), stride=(1,))\n",
      "Reset trainable parameters of layer = Conv1d(4, 8, kernel_size=(9,), stride=(1,))\n",
      "Reset trainable parameters of layer = Linear(in_features=3688, out_features=32, bias=True)\n",
      "Reset trainable parameters of layer = Linear(in_features=32, out_features=1, bias=True)\n"
     ]
    },
    {
     "data": {
      "text/html": [
       "<br/>Waiting for W&B process to finish, PID 11520<br/>Program ended successfully."
      ],
      "text/plain": [
       "<IPython.core.display.HTML object>"
      ]
     },
     "metadata": {},
     "output_type": "display_data"
    },
    {
     "data": {
      "application/vnd.jupyter.widget-view+json": {
       "model_id": "",
       "version_major": 2,
       "version_minor": 0
      },
      "text/plain": [
       "VBox(children=(Label(value=' 0.00MB of 0.00MB uploaded (0.00MB deduped)\\r'), FloatProgress(value=1.0, max=1.0)…"
      ]
     },
     "metadata": {},
     "output_type": "display_data"
    },
    {
     "data": {
      "text/html": [
       "Find user logs for this run at: <code>C:\\Users\\helga\\wines_november\\wandb\\run-20231130_021156-2mh4p8ue\\logs\\debug.log</code>"
      ],
      "text/plain": [
       "<IPython.core.display.HTML object>"
      ]
     },
     "metadata": {},
     "output_type": "display_data"
    },
    {
     "data": {
      "text/html": [
       "Find internal logs for this run at: <code>C:\\Users\\helga\\wines_november\\wandb\\run-20231130_021156-2mh4p8ue\\logs\\debug-internal.log</code>"
      ],
      "text/plain": [
       "<IPython.core.display.HTML object>"
      ]
     },
     "metadata": {},
     "output_type": "display_data"
    },
    {
     "data": {
      "text/html": [
       "<h3>Run summary:</h3><br/><style>\n",
       "    table.wandb td:nth-child(1) { padding: 0 10px; text-align: right }\n",
       "    </style><table class=\"wandb\">\n",
       "<tr><td>trn_loss</td><td>0.22469</td></tr><tr><td>vld_loss</td><td>0.74841</td></tr><tr><td>_step</td><td>500</td></tr><tr><td>_runtime</td><td>1351</td></tr><tr><td>_timestamp</td><td>1701300867</td></tr><tr><td>epoch</td><td>499</td></tr></table>"
      ],
      "text/plain": [
       "<IPython.core.display.HTML object>"
      ]
     },
     "metadata": {},
     "output_type": "display_data"
    },
    {
     "data": {
      "text/html": [
       "<h3>Run history:</h3><br/><style>\n",
       "    table.wandb td:nth-child(1) { padding: 0 10px; text-align: right }\n",
       "    </style><table class=\"wandb\">\n",
       "<tr><td>trn_loss</td><td>█▄▄▃▃▃▃▃▄▃▃▂▁▁▁▁▁▁▁▁▁▁▁▁▁▁▁▁▁▁▁▁▁▁▁▁▁▁▁▁</td></tr><tr><td>vld_loss</td><td>█▃▃▃▃▃▃▃▃▃▃▂▁▁▁▁▁▁▁▁▁▁▁▁▁▁▁▁▁▁▁▁▁▁▁▁▁▁▁▁</td></tr><tr><td>_step</td><td>▁▁▁▂▂▂▂▂▂▃▃▃▃▃▄▄▄▄▄▄▅▅▅▅▅▅▆▆▆▆▆▇▇▇▇▇▇███</td></tr><tr><td>_runtime</td><td>▁▁▁▂▂▂▂▂▃▃▃▃▃▃▄▄▄▄▄▅▅▅▅▅▅▆▆▆▆▆▆▇▇▇▇▇████</td></tr><tr><td>_timestamp</td><td>▁▁▁▂▂▂▂▂▃▃▃▃▃▃▄▄▄▄▄▅▅▅▅▅▅▆▆▆▆▆▆▇▇▇▇▇████</td></tr><tr><td>epoch</td><td>▁</td></tr></table><br/>"
      ],
      "text/plain": [
       "<IPython.core.display.HTML object>"
      ]
     },
     "metadata": {},
     "output_type": "display_data"
    },
    {
     "data": {
      "text/html": [
       "Synced 5 W&B file(s), 0 media file(s), 0 artifact file(s) and 0 other file(s)"
      ],
      "text/plain": [
       "<IPython.core.display.HTML object>"
      ]
     },
     "metadata": {},
     "output_type": "display_data"
    },
    {
     "data": {
      "text/html": [
       "\n",
       "                    <br/>Synced <strong style=\"color:#cdcd00\">whole-shadow-41</strong>: <a href=\"https://wandb.ai/oe_sarmanova/wine_november_IR_CNN_100_epoch_ethanol_pct/runs/2mh4p8ue\" target=\"_blank\">https://wandb.ai/oe_sarmanova/wine_november_IR_CNN_100_epoch_ethanol_pct/runs/2mh4p8ue</a><br/>\n",
       "                "
      ],
      "text/plain": [
       "<IPython.core.display.HTML object>"
      ]
     },
     "metadata": {},
     "output_type": "display_data"
    },
    {
     "name": "stderr",
     "output_type": "stream",
     "text": [
      "wandb: wandb version 0.16.0 is available!  To upgrade, please run:\n",
      "wandb:  $ pip install wandb --upgrade\n"
     ]
    },
    {
     "data": {
      "text/html": [
       "\n",
       "                Tracking run with wandb version 0.10.15<br/>\n",
       "                Syncing run <strong style=\"color:#cdcd00\">proud-sunset-42</strong> to <a href=\"https://wandb.ai\" target=\"_blank\">Weights & Biases</a> <a href=\"https://docs.wandb.com/integrations/jupyter.html\" target=\"_blank\">(Documentation)</a>.<br/>\n",
       "                Project page: <a href=\"https://wandb.ai/oe_sarmanova/wine_november_IR_CNN_100_epoch_ethanol_pct\" target=\"_blank\">https://wandb.ai/oe_sarmanova/wine_november_IR_CNN_100_epoch_ethanol_pct</a><br/>\n",
       "                Run page: <a href=\"https://wandb.ai/oe_sarmanova/wine_november_IR_CNN_100_epoch_ethanol_pct/runs/2f7eut2u\" target=\"_blank\">https://wandb.ai/oe_sarmanova/wine_november_IR_CNN_100_epoch_ethanol_pct/runs/2f7eut2u</a><br/>\n",
       "                Run data is saved locally in <code>C:\\Users\\helga\\wines_november\\wandb\\run-20231130_023435-2f7eut2u</code><br/><br/>\n",
       "            "
      ],
      "text/plain": [
       "<IPython.core.display.HTML object>"
      ]
     },
     "metadata": {},
     "output_type": "display_data"
    },
    {
     "name": "stderr",
     "output_type": "stream",
     "text": [
      "wandb: WARNING Calling run.save without any arguments is deprecated.Changes to attributes are automatically persisted.\n"
     ]
    },
    {
     "name": "stdout",
     "output_type": "stream",
     "text": [
      "Reset trainable parameters of layer = Conv1d(1, 4, kernel_size=(9,), stride=(1,))\n",
      "Reset trainable parameters of layer = Conv1d(4, 8, kernel_size=(9,), stride=(1,))\n",
      "Reset trainable parameters of layer = Linear(in_features=3688, out_features=32, bias=True)\n",
      "Reset trainable parameters of layer = Linear(in_features=32, out_features=1, bias=True)\n"
     ]
    },
    {
     "data": {
      "text/html": [
       "<br/>Waiting for W&B process to finish, PID 15760<br/>Program ended successfully."
      ],
      "text/plain": [
       "<IPython.core.display.HTML object>"
      ]
     },
     "metadata": {},
     "output_type": "display_data"
    },
    {
     "data": {
      "application/vnd.jupyter.widget-view+json": {
       "model_id": "",
       "version_major": 2,
       "version_minor": 0
      },
      "text/plain": [
       "VBox(children=(Label(value=' 0.00MB of 0.00MB uploaded (0.00MB deduped)\\r'), FloatProgress(value=1.0, max=1.0)…"
      ]
     },
     "metadata": {},
     "output_type": "display_data"
    },
    {
     "data": {
      "text/html": [
       "Find user logs for this run at: <code>C:\\Users\\helga\\wines_november\\wandb\\run-20231130_023435-2f7eut2u\\logs\\debug.log</code>"
      ],
      "text/plain": [
       "<IPython.core.display.HTML object>"
      ]
     },
     "metadata": {},
     "output_type": "display_data"
    },
    {
     "data": {
      "text/html": [
       "Find internal logs for this run at: <code>C:\\Users\\helga\\wines_november\\wandb\\run-20231130_023435-2f7eut2u\\logs\\debug-internal.log</code>"
      ],
      "text/plain": [
       "<IPython.core.display.HTML object>"
      ]
     },
     "metadata": {},
     "output_type": "display_data"
    },
    {
     "data": {
      "text/html": [
       "<h3>Run summary:</h3><br/><style>\n",
       "    table.wandb td:nth-child(1) { padding: 0 10px; text-align: right }\n",
       "    </style><table class=\"wandb\">\n",
       "<tr><td>trn_loss</td><td>0.76522</td></tr><tr><td>vld_loss</td><td>0.83303</td></tr><tr><td>_step</td><td>600</td></tr><tr><td>_runtime</td><td>1581</td></tr><tr><td>_timestamp</td><td>1701302456</td></tr><tr><td>epoch</td><td>599</td></tr></table>"
      ],
      "text/plain": [
       "<IPython.core.display.HTML object>"
      ]
     },
     "metadata": {},
     "output_type": "display_data"
    },
    {
     "data": {
      "text/html": [
       "<h3>Run history:</h3><br/><style>\n",
       "    table.wandb td:nth-child(1) { padding: 0 10px; text-align: right }\n",
       "    </style><table class=\"wandb\">\n",
       "<tr><td>trn_loss</td><td>█▆▆▆▆▆▅▆▇▆▅▂▁▁▁▁▁▁▁▁▁▁▁▁▁▁▁▁▁▁▁▁▁▁▁▁▁▁▁▁</td></tr><tr><td>vld_loss</td><td>█▆▆▆▆▆▆▆▆▆▅▂▁▁▁▁▁▁▁▁▁▁▁▁▁▁▁▁▁▁▁▁▁▁▁▁▁▁▁▁</td></tr><tr><td>_step</td><td>▁▁▁▁▂▂▂▂▂▃▃▃▃▃▃▄▄▄▄▄▅▅▅▅▅▅▆▆▆▆▆▆▇▇▇▇▇███</td></tr><tr><td>_runtime</td><td>▁▁▁▁▂▂▂▂▂▃▃▃▃▃▃▄▄▄▄▄▅▅▅▅▅▅▆▆▆▆▆▆▇▇▇▇▇███</td></tr><tr><td>_timestamp</td><td>▁▁▁▁▂▂▂▂▂▃▃▃▃▃▃▄▄▄▄▄▅▅▅▅▅▅▆▆▆▆▆▆▇▇▇▇▇███</td></tr><tr><td>epoch</td><td>▁</td></tr></table><br/>"
      ],
      "text/plain": [
       "<IPython.core.display.HTML object>"
      ]
     },
     "metadata": {},
     "output_type": "display_data"
    },
    {
     "data": {
      "text/html": [
       "Synced 5 W&B file(s), 0 media file(s), 0 artifact file(s) and 0 other file(s)"
      ],
      "text/plain": [
       "<IPython.core.display.HTML object>"
      ]
     },
     "metadata": {},
     "output_type": "display_data"
    },
    {
     "data": {
      "text/html": [
       "\n",
       "                    <br/>Synced <strong style=\"color:#cdcd00\">proud-sunset-42</strong>: <a href=\"https://wandb.ai/oe_sarmanova/wine_november_IR_CNN_100_epoch_ethanol_pct/runs/2f7eut2u\" target=\"_blank\">https://wandb.ai/oe_sarmanova/wine_november_IR_CNN_100_epoch_ethanol_pct/runs/2f7eut2u</a><br/>\n",
       "                "
      ],
      "text/plain": [
       "<IPython.core.display.HTML object>"
      ]
     },
     "metadata": {},
     "output_type": "display_data"
    },
    {
     "name": "stderr",
     "output_type": "stream",
     "text": [
      "wandb: wandb version 0.16.0 is available!  To upgrade, please run:\n",
      "wandb:  $ pip install wandb --upgrade\n"
     ]
    },
    {
     "data": {
      "text/html": [
       "\n",
       "                Tracking run with wandb version 0.10.15<br/>\n",
       "                Syncing run <strong style=\"color:#cdcd00\">faithful-serenity-43</strong> to <a href=\"https://wandb.ai\" target=\"_blank\">Weights & Biases</a> <a href=\"https://docs.wandb.com/integrations/jupyter.html\" target=\"_blank\">(Documentation)</a>.<br/>\n",
       "                Project page: <a href=\"https://wandb.ai/oe_sarmanova/wine_november_IR_CNN_100_epoch_ethanol_pct\" target=\"_blank\">https://wandb.ai/oe_sarmanova/wine_november_IR_CNN_100_epoch_ethanol_pct</a><br/>\n",
       "                Run page: <a href=\"https://wandb.ai/oe_sarmanova/wine_november_IR_CNN_100_epoch_ethanol_pct/runs/fo95z0f7\" target=\"_blank\">https://wandb.ai/oe_sarmanova/wine_november_IR_CNN_100_epoch_ethanol_pct/runs/fo95z0f7</a><br/>\n",
       "                Run data is saved locally in <code>C:\\Users\\helga\\wines_november\\wandb\\run-20231130_030103-fo95z0f7</code><br/><br/>\n",
       "            "
      ],
      "text/plain": [
       "<IPython.core.display.HTML object>"
      ]
     },
     "metadata": {},
     "output_type": "display_data"
    },
    {
     "name": "stderr",
     "output_type": "stream",
     "text": [
      "wandb: WARNING Calling run.save without any arguments is deprecated.Changes to attributes are automatically persisted.\n"
     ]
    },
    {
     "name": "stdout",
     "output_type": "stream",
     "text": [
      "Reset trainable parameters of layer = Conv1d(1, 4, kernel_size=(9,), stride=(1,))\n",
      "Reset trainable parameters of layer = Conv1d(4, 8, kernel_size=(9,), stride=(1,))\n",
      "Reset trainable parameters of layer = Linear(in_features=3688, out_features=32, bias=True)\n",
      "Reset trainable parameters of layer = Linear(in_features=32, out_features=1, bias=True)\n"
     ]
    },
    {
     "data": {
      "text/html": [
       "<br/>Waiting for W&B process to finish, PID 14392<br/>Program ended successfully."
      ],
      "text/plain": [
       "<IPython.core.display.HTML object>"
      ]
     },
     "metadata": {},
     "output_type": "display_data"
    },
    {
     "data": {
      "application/vnd.jupyter.widget-view+json": {
       "model_id": "",
       "version_major": 2,
       "version_minor": 0
      },
      "text/plain": [
       "VBox(children=(Label(value=' 0.00MB of 0.00MB uploaded (0.00MB deduped)\\r'), FloatProgress(value=1.0, max=1.0)…"
      ]
     },
     "metadata": {},
     "output_type": "display_data"
    },
    {
     "data": {
      "text/html": [
       "Find user logs for this run at: <code>C:\\Users\\helga\\wines_november\\wandb\\run-20231130_030103-fo95z0f7\\logs\\debug.log</code>"
      ],
      "text/plain": [
       "<IPython.core.display.HTML object>"
      ]
     },
     "metadata": {},
     "output_type": "display_data"
    },
    {
     "data": {
      "text/html": [
       "Find internal logs for this run at: <code>C:\\Users\\helga\\wines_november\\wandb\\run-20231130_030103-fo95z0f7\\logs\\debug-internal.log</code>"
      ],
      "text/plain": [
       "<IPython.core.display.HTML object>"
      ]
     },
     "metadata": {},
     "output_type": "display_data"
    },
    {
     "data": {
      "text/html": [
       "<h3>Run summary:</h3><br/><style>\n",
       "    table.wandb td:nth-child(1) { padding: 0 10px; text-align: right }\n",
       "    </style><table class=\"wandb\">\n",
       "<tr><td>trn_loss</td><td>0.23367</td></tr><tr><td>vld_loss</td><td>0.71938</td></tr><tr><td>_step</td><td>400</td></tr><tr><td>_runtime</td><td>1056</td></tr><tr><td>_timestamp</td><td>1701303519</td></tr><tr><td>epoch</td><td>399</td></tr></table>"
      ],
      "text/plain": [
       "<IPython.core.display.HTML object>"
      ]
     },
     "metadata": {},
     "output_type": "display_data"
    },
    {
     "data": {
      "text/html": [
       "<h3>Run history:</h3><br/><style>\n",
       "    table.wandb td:nth-child(1) { padding: 0 10px; text-align: right }\n",
       "    </style><table class=\"wandb\">\n",
       "<tr><td>trn_loss</td><td>█▄▃▂▃▃▂▂▂▂▁▁▁▁▁▁▁▁▁▁▁▁▁▁▁▁▁▁▁▁▁▁▁▁▁▁▁▁▁▁</td></tr><tr><td>vld_loss</td><td>█▄▃▃▃▃▃▃▂▂▂▁▁▁▁▁▁▁▁▁▁▁▁▁▁▁▁▁▁▁▁▁▁▁▁▁▁▁▁▁</td></tr><tr><td>_step</td><td>▁▁▁▁▂▂▂▂▂▃▃▃▃▃▃▄▄▄▄▄▅▅▅▅▅▅▆▆▆▆▆▇▇▇▇▇▇███</td></tr><tr><td>_runtime</td><td>▁▁▁▁▂▂▂▂▂▃▃▃▃▃▃▄▄▄▄▄▅▅▅▅▅▅▆▆▆▆▆▇▇▇▇▇▇███</td></tr><tr><td>_timestamp</td><td>▁▁▁▁▂▂▂▂▂▃▃▃▃▃▃▄▄▄▄▄▅▅▅▅▅▅▆▆▆▆▆▇▇▇▇▇▇███</td></tr><tr><td>epoch</td><td>▁</td></tr></table><br/>"
      ],
      "text/plain": [
       "<IPython.core.display.HTML object>"
      ]
     },
     "metadata": {},
     "output_type": "display_data"
    },
    {
     "data": {
      "text/html": [
       "Synced 5 W&B file(s), 0 media file(s), 0 artifact file(s) and 0 other file(s)"
      ],
      "text/plain": [
       "<IPython.core.display.HTML object>"
      ]
     },
     "metadata": {},
     "output_type": "display_data"
    },
    {
     "data": {
      "text/html": [
       "\n",
       "                    <br/>Synced <strong style=\"color:#cdcd00\">faithful-serenity-43</strong>: <a href=\"https://wandb.ai/oe_sarmanova/wine_november_IR_CNN_100_epoch_ethanol_pct/runs/fo95z0f7\" target=\"_blank\">https://wandb.ai/oe_sarmanova/wine_november_IR_CNN_100_epoch_ethanol_pct/runs/fo95z0f7</a><br/>\n",
       "                "
      ],
      "text/plain": [
       "<IPython.core.display.HTML object>"
      ]
     },
     "metadata": {},
     "output_type": "display_data"
    },
    {
     "name": "stderr",
     "output_type": "stream",
     "text": [
      "wandb: wandb version 0.16.0 is available!  To upgrade, please run:\n",
      "wandb:  $ pip install wandb --upgrade\n"
     ]
    },
    {
     "data": {
      "text/html": [
       "\n",
       "                Tracking run with wandb version 0.10.15<br/>\n",
       "                Syncing run <strong style=\"color:#cdcd00\">zany-waterfall-44</strong> to <a href=\"https://wandb.ai\" target=\"_blank\">Weights & Biases</a> <a href=\"https://docs.wandb.com/integrations/jupyter.html\" target=\"_blank\">(Documentation)</a>.<br/>\n",
       "                Project page: <a href=\"https://wandb.ai/oe_sarmanova/wine_november_IR_CNN_100_epoch_ethanol_pct\" target=\"_blank\">https://wandb.ai/oe_sarmanova/wine_november_IR_CNN_100_epoch_ethanol_pct</a><br/>\n",
       "                Run page: <a href=\"https://wandb.ai/oe_sarmanova/wine_november_IR_CNN_100_epoch_ethanol_pct/runs/24g9rvfw\" target=\"_blank\">https://wandb.ai/oe_sarmanova/wine_november_IR_CNN_100_epoch_ethanol_pct/runs/24g9rvfw</a><br/>\n",
       "                Run data is saved locally in <code>C:\\Users\\helga\\wines_november\\wandb\\run-20231130_031849-24g9rvfw</code><br/><br/>\n",
       "            "
      ],
      "text/plain": [
       "<IPython.core.display.HTML object>"
      ]
     },
     "metadata": {},
     "output_type": "display_data"
    },
    {
     "name": "stderr",
     "output_type": "stream",
     "text": [
      "wandb: WARNING Calling run.save without any arguments is deprecated.Changes to attributes are automatically persisted.\n"
     ]
    },
    {
     "name": "stdout",
     "output_type": "stream",
     "text": [
      "Reset trainable parameters of layer = Conv1d(1, 4, kernel_size=(9,), stride=(1,))\n",
      "Reset trainable parameters of layer = Conv1d(4, 8, kernel_size=(9,), stride=(1,))\n",
      "Reset trainable parameters of layer = Linear(in_features=3688, out_features=32, bias=True)\n",
      "Reset trainable parameters of layer = Linear(in_features=32, out_features=1, bias=True)\n"
     ]
    },
    {
     "data": {
      "text/html": [
       "<br/>Waiting for W&B process to finish, PID 4416<br/>Program ended successfully."
      ],
      "text/plain": [
       "<IPython.core.display.HTML object>"
      ]
     },
     "metadata": {},
     "output_type": "display_data"
    },
    {
     "data": {
      "application/vnd.jupyter.widget-view+json": {
       "model_id": "",
       "version_major": 2,
       "version_minor": 0
      },
      "text/plain": [
       "VBox(children=(Label(value=' 0.00MB of 0.00MB uploaded (0.00MB deduped)\\r'), FloatProgress(value=1.0, max=1.0)…"
      ]
     },
     "metadata": {},
     "output_type": "display_data"
    },
    {
     "data": {
      "text/html": [
       "Find user logs for this run at: <code>C:\\Users\\helga\\wines_november\\wandb\\run-20231130_031849-24g9rvfw\\logs\\debug.log</code>"
      ],
      "text/plain": [
       "<IPython.core.display.HTML object>"
      ]
     },
     "metadata": {},
     "output_type": "display_data"
    },
    {
     "data": {
      "text/html": [
       "Find internal logs for this run at: <code>C:\\Users\\helga\\wines_november\\wandb\\run-20231130_031849-24g9rvfw\\logs\\debug-internal.log</code>"
      ],
      "text/plain": [
       "<IPython.core.display.HTML object>"
      ]
     },
     "metadata": {},
     "output_type": "display_data"
    },
    {
     "data": {
      "text/html": [
       "<h3>Run summary:</h3><br/><style>\n",
       "    table.wandb td:nth-child(1) { padding: 0 10px; text-align: right }\n",
       "    </style><table class=\"wandb\">\n",
       "<tr><td>trn_loss</td><td>0.19909</td></tr><tr><td>vld_loss</td><td>0.79728</td></tr><tr><td>_step</td><td>500</td></tr><tr><td>_runtime</td><td>1321</td></tr><tr><td>_timestamp</td><td>1701304850</td></tr><tr><td>epoch</td><td>499</td></tr></table>"
      ],
      "text/plain": [
       "<IPython.core.display.HTML object>"
      ]
     },
     "metadata": {},
     "output_type": "display_data"
    },
    {
     "data": {
      "text/html": [
       "<h3>Run history:</h3><br/><style>\n",
       "    table.wandb td:nth-child(1) { padding: 0 10px; text-align: right }\n",
       "    </style><table class=\"wandb\">\n",
       "<tr><td>trn_loss</td><td>█▅▅▄▅▅▅▄▃▂▁▁▁▁▁▁▁▁▁▁▁▁▁▁▁▁▁▁▁▁▁▁▁▁▁▁▁▁▁▁</td></tr><tr><td>vld_loss</td><td>█▄▄▄▄▄▄▄▄▂▁▁▁▁▁▁▁▁▁▁▁▁▁▁▁▁▁▁▁▁▁▁▁▁▁▁▁▁▁▁</td></tr><tr><td>_step</td><td>▁▁▁▂▂▂▂▂▂▃▃▃▃▃▄▄▄▄▄▄▅▅▅▅▅▅▆▆▆▆▆▇▇▇▇▇▇███</td></tr><tr><td>_runtime</td><td>▁▁▁▂▂▂▂▂▂▃▃▃▃▃▄▄▄▄▄▄▅▅▅▅▅▆▆▆▆▆▆▇▇▇▇▇▇███</td></tr><tr><td>_timestamp</td><td>▁▁▁▂▂▂▂▂▂▃▃▃▃▃▄▄▄▄▄▄▅▅▅▅▅▆▆▆▆▆▆▇▇▇▇▇▇███</td></tr><tr><td>epoch</td><td>▁</td></tr></table><br/>"
      ],
      "text/plain": [
       "<IPython.core.display.HTML object>"
      ]
     },
     "metadata": {},
     "output_type": "display_data"
    },
    {
     "data": {
      "text/html": [
       "Synced 5 W&B file(s), 0 media file(s), 0 artifact file(s) and 0 other file(s)"
      ],
      "text/plain": [
       "<IPython.core.display.HTML object>"
      ]
     },
     "metadata": {},
     "output_type": "display_data"
    },
    {
     "data": {
      "text/html": [
       "\n",
       "                    <br/>Synced <strong style=\"color:#cdcd00\">zany-waterfall-44</strong>: <a href=\"https://wandb.ai/oe_sarmanova/wine_november_IR_CNN_100_epoch_ethanol_pct/runs/24g9rvfw\" target=\"_blank\">https://wandb.ai/oe_sarmanova/wine_november_IR_CNN_100_epoch_ethanol_pct/runs/24g9rvfw</a><br/>\n",
       "                "
      ],
      "text/plain": [
       "<IPython.core.display.HTML object>"
      ]
     },
     "metadata": {},
     "output_type": "display_data"
    }
   ],
   "source": [
    "model = OneDCNN().float()\n",
    "\n",
    "loss_function = torch.nn.MSELoss().cuda()\n",
    "optimizer = optim.Adam(model.parameters(), lr=0.001)\n",
    "l2_lambda = 0.001\n",
    "\n",
    "k_folds = [[42,12],[612,45],[72,172],[871,48],[52,134],[139,15],[287,403],[32,29]] #cross-validation folds\n",
    "k_folds = [[287,403],[32,29]]\n",
    "a = ['sample_number',target]\n",
    "\n",
    "for fold in k_folds:\n",
    "    \n",
    "    split_path = case_path + 'split_'+ str(fold[0])+'_'+str(fold[1])+ '\\\\'\n",
    "    \n",
    "    #Data import and normalization\n",
    "    training_data =  IR_wine_dataset(targets_num[target],split_path+'Y_trn.csv',data_file,label_file)\n",
    "\n",
    "    train_dataloader = DataLoader(training_data, batch_size=1213, shuffle=True)\n",
    "    mean_f, std_f = mean_std(train_dataloader)\n",
    "\n",
    "    training_data =  IR_wine_dataset(targets_num[target],split_path+'Y_trn.csv',data_file,label_file, transform= transforms.Compose([Normalize(mean_f, std_f)]))\n",
    "    validation_data =  IR_wine_dataset(targets_num[target],split_path+'Y_vld.csv',data_file,label_file, transform= transforms.Compose([Normalize(mean_f, std_f)]))\n",
    "    test_data =  IR_wine_dataset(targets_num[target],split_path+'Y_tst.csv',data_file,label_file, transform= transforms.Compose([Normalize(mean_f, std_f)]))\n",
    "\n",
    "    train_dataloader = DataLoader(training_data, batch_size=64, shuffle=True)\n",
    "    validation_dataloader = DataLoader(validation_data, batch_size=64, shuffle=True)\n",
    "    test_dataloader = DataLoader(test_data, batch_size=64, shuffle=True)\n",
    "    \n",
    "\n",
    "    for init_number in range(0,5): #Это я делаю множественную инициализацию весов сети\n",
    "\n",
    "        init_path = split_path + str(init_number)+'\\\\'\n",
    "        os.makedirs(init_path, exist_ok=True)\n",
    "\n",
    "        # Обучение\n",
    "        # критерием остановки является ошибка на валидационном наборе - останавливаемся,\n",
    "        #если в течение 100 эпох (test_stop) ошибка на валидационном наборе (val_loss) не падала\n",
    "\n",
    "        test_stop = 100 #stopping criterion\n",
    "        max_val_loss = 10000.0\n",
    "\n",
    "        wandb.init(project = case_name)\n",
    "\n",
    "        split_name = 'split_'+ str(fold[0])+'_'+str(fold[1])\n",
    "        init_name = '_' + str(init_number)\n",
    "        model_name = '_CNN'\n",
    "        wandb.run.name = split_name + init_name + model_name\n",
    "        wandb.run.save()\n",
    "\n",
    "        for epoch_step in range(0, 10000, test_stop):\n",
    "            \n",
    "            if epoch_step!=0:\n",
    "                checkpoint = torch.load(init_path + 'model'+model_name+'.pth')\n",
    "                model.load_state_dict(checkpoint['model_state_dict'])\n",
    "                optimizer.load_state_dict(checkpoint['optimizer_state_dict'])\n",
    "                last_best_epoch = checkpoint['epoch']\n",
    "                loss = checkpoint['loss']\n",
    "                model.train()\n",
    "                \n",
    "                if last_best_epoch + test_stop > ep:\n",
    "                    for ep in range(epoch_step, epoch_step+test_stop):\n",
    "                        for _, data in enumerate(train_dataloader, 0): # get bacth\n",
    "                            num, inputs, labels = data # parse batch\n",
    "                            optimizer.zero_grad() # sets the gradients of all optimized tensors to zero.\n",
    "                            outputs = model(inputs) # get outputs\n",
    "                            loss = loss_function(outputs, labels) # calculate loss\n",
    "                            #Regularization\n",
    "                            l2_norm = sum(p.pow(2.0).sum()\n",
    "                                      for p in model.parameters())\n",
    "\n",
    "                            loss = loss + l2_lambda * l2_norm\n",
    "                            loss.backward() # calculate gradients\n",
    "                            optimizer.step() # performs a single optimization step (parameter update).\n",
    "\n",
    "                        dl = 0\n",
    "                        val_loss = 0.0\n",
    "                        for num, specs, labels in validation_dataloader: \n",
    "                            val_loss += loss_function(model(specs),labels) + l2_lambda * l2_norm\n",
    "                            dl+=1\n",
    "                        val_loss = val_loss/dl\n",
    "                        \n",
    "                        if val_loss.item() <= max_val_loss:\n",
    "                            torch.save({'epoch': ep,\n",
    "                              'model_state_dict': model.state_dict(),\n",
    "                              'optimizer_state_dict': optimizer.state_dict(),\n",
    "                              'loss': loss}, init_path + 'model'+model_name+'.pth')\n",
    "                            max_val_loss = val_loss.item()\n",
    "                        wandb.log({\"trn_loss\": loss, \"vld_loss\": val_loss})\n",
    "                else: continue    \n",
    "      \n",
    "            if epoch_step==0:\n",
    "                model.apply(reset_weights)\n",
    "\n",
    "                for ep in range(epoch_step, test_stop):\n",
    "                    for _, data in enumerate(train_dataloader, 0): # get bacth\n",
    "                        num, inputs, labels = data # parse batch\n",
    "                        optimizer.zero_grad() # sets the gradients of all optimized tensors to zero.\n",
    "                        outputs = model(inputs) # get outputs\n",
    "                        loss = loss_function(outputs, labels) # calculate loss\n",
    "                        #Regularization\n",
    "                        l2_norm = sum(p.pow(2.0).sum()\n",
    "                                      for p in model.parameters())\n",
    "\n",
    "                        loss = loss + l2_lambda * l2_norm\n",
    "                        \n",
    "                        loss.backward() # calculate gradients\n",
    "                        optimizer.step() # performs a single optimization step (parameter update).\n",
    "\n",
    "                    dl = 0\n",
    "                    val_loss = 0.0\n",
    "                    for num, specs, labels in validation_dataloader:\n",
    "                        val_loss += loss_function(model(specs),labels) + l2_lambda * l2_norm\n",
    "                        dl+=1\n",
    "                    val_loss = val_loss/dl\n",
    "\n",
    "                    if val_loss.item() <= max_val_loss:\n",
    "                        torch.save({'epoch': ep,\n",
    "                          'model_state_dict': model.state_dict(),\n",
    "                          'optimizer_state_dict': optimizer.state_dict(),\n",
    "                          'loss': loss}, init_path + 'model'+model_name+'.pth')\n",
    "                        max_val_loss = val_loss.item()\n",
    "                    wandb.log({\"trn_loss\": loss, \"vld_loss\": val_loss})\n",
    "\n",
    "        wandb.log({\"epoch\": ep})\n",
    "        wandb.finish()\n",
    "\n",
    "        write_predictions(target, model, model_name, init_path, train_dataloader, out_num, dset = 'trn')\n",
    "        write_predictions(target, model, model_name, init_path, validation_dataloader, out_num, dset ='vld')\n",
    "        write_predictions(target, model, model_name, init_path, test_dataloader, out_num, dset ='tst')\n"
   ]
  },
  {
   "cell_type": "code",
   "execution_count": null,
   "id": "78009993",
   "metadata": {},
   "outputs": [],
   "source": []
  }
 ],
 "metadata": {
  "kernelspec": {
   "display_name": "Python 3",
   "language": "python",
   "name": "python3"
  },
  "language_info": {
   "codemirror_mode": {
    "name": "ipython",
    "version": 3
   },
   "file_extension": ".py",
   "mimetype": "text/x-python",
   "name": "python",
   "nbconvert_exporter": "python",
   "pygments_lexer": "ipython3",
   "version": "3.8.8"
  }
 },
 "nbformat": 4,
 "nbformat_minor": 5
}
